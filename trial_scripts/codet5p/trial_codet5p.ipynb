{
 "cells": [
  {
   "cell_type": "code",
   "execution_count": null,
   "id": "1b994ee7",
   "metadata": {},
   "outputs": [
    {
     "name": "stdout",
     "output_type": "stream",
     "text": [
      "func main ( ) { fmt. Println ( \" \" ) \n",
      " fmt. Println ( \" \" ) \n",
      " fmt. Println ( \" \" ) \n",
      " fmt. Println ( \" \" ) \n",
      " fmt. Println ( \" \" ) \n",
      " fmt. Println ( \" \" ) \n",
      " fmt. Println ( \" \" ) \n",
      " fmt. Println ( \" \" ) \n",
      " fmt. Println ( \" \" ) \n",
      " fmt. Println ( \" \" ) \n",
      " fmt. Println ( \" \" ) \n",
      " fmt. Println ( \" \" ) \n",
      " fmt. Println ( \" \" ) \n",
      " fmt. Println ( \" \" ) \n",
      " fmt. Println ( \" \" ) \n",
      " fmt. Println ( \" \" ) \n",
      " fmt. Println ( \" \" ) \n",
      " fmt. Println ( \" \" ) \n",
      " fmt. Println ( \" \" ) \n",
      " fmt. Println ( \" \" ) \n",
      " fmt. Println ( \" \" ) \n",
      " fmt. Println ( \" \" ) \n",
      " fmt. Println ( \" \" ) \n",
      " fmt. Println ( \" \" ) \n",
      " fmt. Println ( \" \" ) \n",
      " fmt. Println ( \" \" ) \n",
      " fmt. Println ( \" \" ) \n",
      " fmt. Println ( \" \" ) \n",
      " fmt. Println ( \" \" ) \n",
      " fmt. Println ( \" \" ) \n",
      " fmt. Println ( \" \" ) \n",
      " fmt. Println ( \" \" ) \n",
      " fmt. Println ( \" \" ) \n",
      " fmt. Println ( \" \" ) \n",
      " fmt. Println ( \" \" ) \n",
      " fmt. Println ( \" \" ) \n",
      " fmt. Println ( \" \" ) \n",
      " fmt. Println ( \" \" ) \n",
      " fmt. Println ( \" \" ) \n",
      " fmt. Println ( \" \" ) \n",
      " fmt. Println ( \" \" ) \n",
      " fmt. Println ( \" \" ) \n",
      " fmt. Println ( \" \" ) \n",
      " fmt. Println ( \" \" ) \n",
      " fmt. Println ( \" \" ) \n",
      " fmt. Println ( \" \" ) \n",
      " fmt. Println ( \" \" ) \n",
      " fmt. Println ( \" \" ) \n",
      " fmt. Println ( \" \" ) \n",
      " fmt. Println ( \" \" ) \n",
      " fmt. Println ( \" \" ) \n",
      " fmt. Println ( \" \" )\n"
     ]
    }
   ],
   "source": [
    "from transformers import T5ForConditionalGeneration, AutoTokenizer, AutoModel\n",
    "\n",
    "checkpoint = \"Salesforce/codet5p-220m-bimodal\"\n",
    "device = \"cuda:1\" # for GPU usage or \"cpu\" for CPU usage\n",
    "\n",
    "tokenizer = AutoTokenizer.from_pretrained(checkpoint)\n",
    "#For unimodal codet5p\n",
    "# model = T5ForConditionalGeneration.from_pretrained(checkpoint).to(device)\n",
    "#For bimodal codet5p\n",
    "model = AutoModel.from_pretrained(checkpoint, trust_remote_code=True).to(device)\n",
    "\n",
    "inputs = tokenizer.encode('Summarize the code below\\n func main()\\n{fmt.Println(\"Hello\")}', return_tensors=\"pt\").to(device)\n",
    "outputs = model.generate(inputs, max_length=100)\n",
    "print(tokenizer.decode(outputs[0], skip_special_tokens=True))"
   ]
  },
  {
   "cell_type": "code",
   "execution_count": null,
   "id": "e5de9480",
   "metadata": {},
   "outputs": [],
   "source": []
  }
 ],
 "metadata": {
  "kernelspec": {
   "display_name": "Python 3",
   "language": "python",
   "name": "python3"
  },
  "language_info": {
   "codemirror_mode": {
    "name": "ipython",
    "version": 3
   },
   "file_extension": ".py",
   "mimetype": "text/x-python",
   "name": "python",
   "nbconvert_exporter": "python",
   "pygments_lexer": "ipython3",
   "version": "3.11.13"
  }
 },
 "nbformat": 4,
 "nbformat_minor": 5
}
